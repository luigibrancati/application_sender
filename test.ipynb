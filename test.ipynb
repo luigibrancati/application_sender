{
 "cells": [
  {
   "cell_type": "code",
   "execution_count": 1,
   "metadata": {},
   "outputs": [],
   "source": [
    "import pandas as pd\n",
    "import glob\n",
    "import json\n",
    "from IPython.display import clear_output"
   ]
  },
  {
   "cell_type": "code",
   "execution_count": null,
   "metadata": {},
   "outputs": [
    {
     "name": "stdout",
     "output_type": "stream",
     "text": [
      "Progress: 20/186\n"
     ]
    }
   ],
   "source": [
    "all_rows = []\n",
    "files = glob.glob('./us/*')\n",
    "for i in range(len(files)):\n",
    "    clear_output(wait=True)\n",
    "    print(f\"Progress: {i}/{len(files)}\")\n",
    "    with open(files[i]) as f:\n",
    "        row = [json.loads(l)['properties'] for l in f.readlines()]\n",
    "        all_rows.extend(row)\n",
    "clear_output(wait=True)\n",
    "print(f\"Progress: {len(files)}/{len(files)}\")"
   ]
  },
  {
   "cell_type": "code",
   "execution_count": null,
   "metadata": {},
   "outputs": [],
   "source": [
    "df = pd.DataFrame(all_rows)"
   ]
  },
  {
   "cell_type": "code",
   "execution_count": null,
   "metadata": {},
   "outputs": [],
   "source": [
    "df.head()"
   ]
  },
  {
   "cell_type": "code",
   "execution_count": null,
   "metadata": {},
   "outputs": [],
   "source": []
  }
 ],
 "metadata": {
  "interpreter": {
   "hash": "877063b0e118840ee11732d4fa10a341caacd57769b2c2a2ed8af8eed8ccfdfa"
  },
  "kernelspec": {
   "display_name": "Python 3 (ipykernel)",
   "language": "python",
   "name": "python3"
  },
  "language_info": {
   "codemirror_mode": {
    "name": "ipython",
    "version": 3
   },
   "file_extension": ".py",
   "mimetype": "text/x-python",
   "name": "python",
   "nbconvert_exporter": "python",
   "pygments_lexer": "ipython3",
   "version": "3.9.0"
  }
 },
 "nbformat": 4,
 "nbformat_minor": 2
}
