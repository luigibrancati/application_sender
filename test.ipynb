{
 "cells": [
  {
   "cell_type": "code",
   "execution_count": 12,
   "metadata": {},
   "outputs": [],
   "source": [
    "from selenium import webdriver\n",
    "from selenium.common.exceptions import NoSuchElementException\n",
    "from selenium.webdriver.common.keys import Keys\n",
    "from selenium.webdriver.common.by import By\n",
    "from selenium.webdriver.support.ui import WebDriverWait\n",
    "from selenium.webdriver.support import expected_conditions as EC\n",
    "from selenium.webdriver.support.ui import Select\n",
    "from resume import ResumeGenerator\n",
    "from fake_contacts import FakeIdentity, fake\n",
    "import time\n",
    "import os\n",
    "from datetime import datetime, date\n",
    "from functools import wraps\n",
    "from selenium.webdriver.common.action_chains import ActionChains\n",
    "from sys import exit"
   ]
  },
  {
   "cell_type": "code",
   "execution_count": 13,
   "metadata": {},
   "outputs": [
    {
     "data": {
      "text/plain": [
       "'resume.pdf'"
      ]
     },
     "execution_count": 13,
     "metadata": {},
     "output_type": "execute_result"
    }
   ],
   "source": [
    "fake_id = FakeIdentity()\n",
    "resume = ResumeGenerator(fake_id.curriculum(), fake_id.contacts())\n",
    "resume.generate()"
   ]
  },
  {
   "cell_type": "code",
   "execution_count": 14,
   "metadata": {},
   "outputs": [],
   "source": [
    "TIMEOUT = 30\n",
    "\n",
    "def delay(t: int=1):\n",
    "    def decorator_delay(f):\n",
    "        @wraps(f)\n",
    "        def wrapper(*args, **kwargs):\n",
    "            time.sleep(t)\n",
    "            return f(*args, **kwargs)\n",
    "        return wrapper\n",
    "    return decorator_delay\n",
    "\n",
    "\n",
    "@delay()\n",
    "def send_keys(el, keys):\n",
    "    el.clear()\n",
    "    el.send_keys(keys)\n",
    "\n",
    "@delay(t=2)\n",
    "def wait_element(t, locator):\n",
    "    try:\n",
    "        element = WebDriverWait(driver, t).until(\n",
    "            EC.presence_of_element_located(locator)\n",
    "        )\n",
    "        element = WebDriverWait(driver, t).until(\n",
    "            EC.element_to_be_clickable(locator)\n",
    "        )\n",
    "        element = WebDriverWait(driver, t).until(\n",
    "            EC.visibility_of_element_located(locator)\n",
    "        )\n",
    "    except:\n",
    "        print(\"timeout\")\n",
    "        driver.quit()\n",
    "        exit(1)"
   ]
  },
  {
   "cell_type": "code",
   "execution_count": 15,
   "metadata": {},
   "outputs": [],
   "source": [
    "driver = webdriver.Firefox()\n",
    "driver.implicitly_wait(10)\n",
    "driver.get(\"https://jobs.kellogg.com/job/Lancaster-Permanent-Production-Associate-Lancaster-PA-17601/817684800/\")\n",
    "\n",
    "# Cookie\n",
    "driver.find_element(By.ID, \"cookie-acknowledge\").click()\n",
    "\n",
    "# Apply now\n",
    "driver.find_element(By.CSS_SELECTOR, 'button.btn.btn-primary.btn-large.btn-lg.dropdown-toggle').click()\n",
    "driver.find_element(By.ID, 'applyOption-top-manual').click()\n",
    "\n",
    "# Create new profile\n",
    "wait_element(TIMEOUT, (By.CSS_SELECTOR, '.bottomLink a'))\n",
    "try:\n",
    "    element = WebDriverWait(driver, TIMEOUT).until(\n",
    "        EC.invisibility_of_element_located((By.CLASS_NAME, \"loading_indicator_layout_static\"))\n",
    "    )\n",
    "except:\n",
    "    print(\"timeout\")\n",
    "    driver.quit()\n",
    "    exit(1)\n",
    "driver.find_element(By.CSS_SELECTOR, '.bottomLink a').click()\n",
    "\n",
    "# Fill new profile info\n",
    "wait_element(TIMEOUT, (By.ID, \"fbclc_userName\"))\n",
    "send_keys(driver.find_element(By.ID, \"fbclc_userName\"), fake_id.email)\n",
    "send_keys(driver.find_element(By.ID, \"fbclc_emailConf\"), fake_id.email)\n",
    "send_keys(driver.find_element(By.ID, \"fbclc_pwd\"), fake_id.pwd)\n",
    "send_keys(driver.find_element(By.ID, \"fbclc_pwdConf\"), fake_id.pwd)\n",
    "send_keys(driver.find_element(By.ID, \"fbclc_fName\"), fake_id.first_name)\n",
    "send_keys(driver.find_element(By.ID, \"fbclc_lName\"), fake_id.last_name)\n",
    "send_keys(driver.find_element(By.ID, \"fbclc_phoneNumber\"), fake_id.phone)\n",
    "\n",
    "# Country dropdown\n",
    "Select(driver.find_element(By.ID, \"fbclc_ituCode\")).select_by_value('US')\n",
    "Select(driver.find_element(By.ID, \"fbclc_country\")).select_by_value('US')\n",
    "\n",
    "# CAPTCHA\n",
    "#driver.get(\"file:///home/luigi/Downloads/Career%20Opportunities%20Create%20an%20Account.html\")\n",
    "wait_element(TIMEOUT, (By.CSS_SELECTOR, 'iframe[title=\"reCAPTCHA\"]'))\n",
    "driver.execute_script(\"document.getElementById('dataPrivacyId').scrollIntoView(true);\")\n",
    "driver.switch_to.frame(driver.find_element(By.CSS_SELECTOR, 'iframe[title=\"reCAPTCHA\"]'))\n",
    "spinner = driver.find_element(By.CLASS_NAME, \"recaptcha-checkbox-border\")\n",
    "spinner.click()\n",
    "time.sleep(2)\n",
    "driver.switch_to.default_content()\n",
    "try:\n",
    "    element = WebDriverWait(driver, 2*TIMEOUT).until_not(\n",
    "        EC.visibility_of_element_located((By.CSS_SELECTOR, 'iframe[title=\"recaptcha challenge expires in two minutes\"]'))\n",
    "    )\n",
    "except:\n",
    "    print(\"timeout\")\n",
    "    driver.quit()\n",
    "    exit(1)\n",
    "time.sleep(2)\n",
    "wait_element(TIMEOUT, (By.ID, \"dataPrivacyId\"))\n",
    "driver.find_element(By.ID, \"dataPrivacyId\").click()\n",
    "driver.find_element(By.ID, \"dlgButton_20:\").click()\n",
    "driver.find_element(By.ID, \"fbclc_createAccountButton\").click()\n",
    "\n",
    "# Load Resume\n",
    "wait_element(TIMEOUT, (By.CLASS_NAME, \"attachActions\"))\n",
    "driver.find_element(By.CLASS_NAME, \"attachActions\").click()\n",
    "send_keys(driver.find_element(By.ID, \"49:_file\"), os.path.abspath('./resume.pdf')) # Upload Resume"
   ]
  },
  {
   "cell_type": "code",
   "execution_count": 16,
   "metadata": {},
   "outputs": [],
   "source": [
    "# Profile Info\n",
    "wait_element(TIMEOUT, (By.NAME, \"currentTitle\"))\n",
    "send_keys(driver.find_element(By.NAME, \"currentTitle\"), fake_id.title) # Title"
   ]
  },
  {
   "cell_type": "code",
   "execution_count": 17,
   "metadata": {},
   "outputs": [],
   "source": [
    "# Candidate specific information\n",
    "wait_element(TIMEOUT, (By.NAME, \"citizen\"))\n",
    "Select(driver.find_element(By.NAME, \"citizen\")).select_by_visible_text(\"Yes\") # Citizen of US\n",
    "driver.find_element(By.NAME, \"expectedSalaryRange\").send_keys(\"100000\") # Salary expectation\n",
    "Select(driver.find_element(By.NAME, \"candidateSource\")).select_by_value(\"3217000\") # Source for job posting"
   ]
  },
  {
   "cell_type": "code",
   "execution_count": 19,
   "metadata": {},
   "outputs": [],
   "source": [
    "# Profile Information\n",
    "Select(driver.find_element(By.NAME, \"presentEmployer\")).select_by_value(\"299\") # present employee"
   ]
  },
  {
   "cell_type": "code",
   "execution_count": 20,
   "metadata": {},
   "outputs": [],
   "source": [
    "# Equal Employment Information\n",
    "wait_element(TIMEOUT, (By.NAME, \"custCountry\"))\n",
    "Select(driver.find_element(By.NAME, \"custCountry\")).select_by_value(\"3206850\") # Country of origin\n",
    "Select(driver.find_element(By.NAME, \"veteranStatus\")).select_by_value(\"299\") # Veteran\n",
    "Select(driver.find_element(By.NAME, \"disabilityStatus\")).select_by_value(\"299\") # Disability\n",
    "Select(driver.find_element(By.NAME, \"custAge\")).select_by_value(\"298\") # Age 18+\n",
    "Select(driver.find_element(By.NAME, \"cust_sponsor\")).select_by_value(\"299\") # Sponsorship\n",
    "Select(driver.find_element(By.NAME, \"custPrev\")).select_by_value(\"299\") # Worked for kellogs\n",
    "Select(driver.find_element(By.NAME, \"custcontr\")).select_by_value(\"299\") # Contractor for Kellogs\n",
    "Select(driver.find_element(By.NAME, \"custRel\")).select_by_value(\"299\") # Relative for kellogs\n",
    "Select(driver.find_element(By.NAME, \"custAccom\")).select_by_value(\"298\") # Accomodation\n",
    "Select(driver.find_element(By.NAME, \"custgender\")).select_by_value(\"71046\" if fake_id.gender == 'F' else \"71047\") # Gender\n",
    "Select(driver.find_element(By.NAME, \"disabilityselection\")).select_by_value(\"71280\") # Disability 2"
   ]
  },
  {
   "cell_type": "code",
   "execution_count": 21,
   "metadata": {},
   "outputs": [
    {
     "name": "stderr",
     "output_type": "stream",
     "text": [
      "/home/luigi/anaconda3/envs/kellogs/lib/python3.9/site-packages/selenium/webdriver/remote/webelement.py:464: UserWarning: find_elements_by_* commands are deprecated. Please use find_elements() instead\n",
      "  warnings.warn(\"find_elements_by_* commands are deprecated. Please use find_elements() instead\")\n",
      "/home/luigi/anaconda3/envs/kellogs/lib/python3.9/site-packages/selenium/webdriver/remote/webelement.py:341: UserWarning: find_element_by_* commands are deprecated. Please use find_element() instead\n",
      "  warnings.warn(\"find_element_by_* commands are deprecated. Please use find_element() instead\")\n"
     ]
    }
   ],
   "source": [
    "# Questionario\n",
    "for i, rg in enumerate(driver.find_elements(By.CLASS_NAME, 'radioGroup')):\n",
    "    for c in rg.find_elements_by_class_name('sfRadioInputField'):\n",
    "        if i == 0 and c.text == 'Yes':\n",
    "            c.find_element_by_tag_name('a').click()\n",
    "        if i == 1 and c.text == '350 LBS':\n",
    "            c.find_element_by_tag_name('a').click()\n",
    "        if i == 2 and c.text == '800 LBS':\n",
    "            c.find_element_by_tag_name('a').click()\n",
    "        if i == 3 and c.text == 'Yes':\n",
    "            c.find_element_by_tag_name('a').click()"
   ]
  },
  {
   "cell_type": "code",
   "execution_count": 28,
   "metadata": {},
   "outputs": [
    {
     "name": "stderr",
     "output_type": "stream",
     "text": [
      "/home/luigi/anaconda3/envs/kellogs/lib/python3.9/site-packages/selenium/webdriver/remote/webelement.py:341: UserWarning: find_element_by_* commands are deprecated. Please use find_element() instead\n",
      "  warnings.warn(\"find_element_by_* commands are deprecated. Please use find_element() instead\")\n",
      "/home/luigi/anaconda3/envs/kellogs/lib/python3.9/site-packages/selenium/webdriver/remote/webelement.py:502: UserWarning: find_elements_by_* commands are deprecated. Please use find_elements() instead\n",
      "  warnings.warn(\"find_elements_by_* commands are deprecated. Please use find_elements() instead\")\n",
      "/home/luigi/anaconda3/envs/kellogs/lib/python3.9/site-packages/selenium/webdriver/remote/webelement.py:227: UserWarning: find_element_by_* commands are deprecated. Please use find_element() instead\n",
      "  warnings.warn(\"find_element_by_* commands are deprecated. Please use find_element() instead\")\n"
     ]
    },
    {
     "name": "stdout",
     "output_type": "stream",
     "text": [
      "Formal Education\n",
      "Candidate-Specific Information\n"
     ]
    },
    {
     "name": "stderr",
     "output_type": "stream",
     "text": [
      "/home/luigi/anaconda3/envs/kellogs/lib/python3.9/site-packages/selenium/webdriver/remote/webelement.py:484: UserWarning: find_element_by_* commands are deprecated. Please use find_element() instead\n",
      "  warnings.warn(\"find_element_by_* commands are deprecated. Please use find_element() instead\")\n"
     ]
    }
   ],
   "source": [
    "[Select(el).select_by_value('296') for el in driver.find_elements(By.NAME, 'VFLD4')]\n",
    "for div in driver.find_elements(By.CSS_SELECTOR, 'div.rcmFormSection.row'):\n",
    "    try:\n",
    "        h2 = div.find_element_by_tag_name('h2')\n",
    "        if h2.text == 'Formal Education':\n",
    "            print(h2.text)\n",
    "            for i, uni in enumerate(div.find_elements_by_css_selector('.sectionContentOpen.sectionContent.rcmFormSectionContent div.row div.row')):\n",
    "                type = Select(uni.find_element_by_name('VFLD3'))\n",
    "                type.select_by_value(\"197\" if 'B' in fake_id.education[i].type else \"357\")\n",
    "                major = Select(uni.find_element_by_name('VFLD2'))\n",
    "                index = [o.text for o in major.options].index(fake_id.education[i].major)\n",
    "                if index:\n",
    "                    major.select_by_index(index)\n",
    "        elif h2.text == 'Candidate-Specific Information':\n",
    "            print(h2.text)\n",
    "            datepicker = div.find_element_by_css_selector('div.row span.datepicker input')\n",
    "            datepicker.click()\n",
    "            datepicker.clear()\n",
    "            send_keys(datepicker, datetime.strftime(fake.date_between_dates(date(2022,1,1), date(2022,1,31)), '%m/%d/%Y')) # Date available\n",
    "    except NoSuchElementException:\n",
    "        continue"
   ]
  },
  {
   "cell_type": "code",
   "execution_count": 34,
   "metadata": {},
   "outputs": [],
   "source": [
    "# Apply\n",
    "for button in driver.find_elements(By.CLASS_NAME, 'rcmSaveButton'):\n",
    "    if 'submit' in button.get_attribute('onclick'):\n",
    "        button.click()"
   ]
  },
  {
   "cell_type": "code",
   "execution_count": 35,
   "metadata": {},
   "outputs": [],
   "source": [
    "driver.close()"
   ]
  },
  {
   "cell_type": "code",
   "execution_count": null,
   "metadata": {},
   "outputs": [],
   "source": []
  }
 ],
 "metadata": {
  "interpreter": {
   "hash": "877063b0e118840ee11732d4fa10a341caacd57769b2c2a2ed8af8eed8ccfdfa"
  },
  "kernelspec": {
   "display_name": "Python 3 (ipykernel)",
   "language": "python",
   "name": "python3"
  },
  "language_info": {
   "codemirror_mode": {
    "name": "ipython",
    "version": 3
   },
   "file_extension": ".py",
   "mimetype": "text/x-python",
   "name": "python",
   "nbconvert_exporter": "python",
   "pygments_lexer": "ipython3",
   "version": "3.9.0"
  }
 },
 "nbformat": 4,
 "nbformat_minor": 2
}
